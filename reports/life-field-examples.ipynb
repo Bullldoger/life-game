{
 "cells": [
  {
   "cell_type": "markdown",
   "metadata": {},
   "source": [
    "## Игровое поле представляет собой сетку N x M\n",
    "\n",
    "- ### каждая ячейка имеет определенные параметры\n",
    "    - степень растительности (vegetation)\n",
    "    - скорость роста растительности (vegetation_up_speed)\n",
    "    - максимально возможная растительность (max_vegetation)"
   ]
  },
  {
   "cell_type": "code",
   "execution_count": 14,
   "metadata": {},
   "outputs": [],
   "source": [
    "class LifeCell:\n",
    "    '''\n",
    "    Present a simple life cell with required attributes\n",
    "    '''\n",
    "    def __init__(self, vegetation=0, vegetation_up_speed=0, max_vegetation=0):\n",
    "        '''\n",
    "        vegetation=0, vegetation_up_speed=0, max_vegetation=0 - default values\n",
    "        '''\n",
    "        self._vegetation = vegetation\n",
    "        self._vegetation_up_speed = vegetation_up_speed\n",
    "        self._max_vegetation = max_vegetation\n",
    "    \n",
    "    def get_vegetation(self):\n",
    "        '''\n",
    "        return cell vegetation\n",
    "        '''\n",
    "        return self.vegetation\n",
    "    \n",
    "    def get_vegetation_up_speed(self):\n",
    "        '''\n",
    "        return cell vegetation growth\n",
    "        '''\n",
    "        return self.vegetation_up_speed\n",
    "    \n",
    "    def get_max_vegetation(self):\n",
    "        '''\n",
    "        return cell maximum vegetation\n",
    "        '''\n",
    "        return self.max_vegetation\n",
    "    \n",
    "    def set_vegetation(self, vegetation):\n",
    "        '''\n",
    "        update cell vegetation\n",
    "        '''\n",
    "        self._vegetation = vegetation\n",
    "        \n",
    "    def set_max_vegetation(self, max_vegetation):\n",
    "        '''\n",
    "        update cell maximum vegetation\n",
    "        '''\n",
    "        self._max_vegetation = max_vegetation\n",
    "    \n",
    "    def set_vegetation_up_speed(self, vegetation_up_speed):\n",
    "        '''\n",
    "        update cell vegetation growth\n",
    "        '''\n",
    "        self._vegetation_up_speed = vegetation_up_speed"
   ]
  },
  {
   "cell_type": "markdown",
   "metadata": {},
   "source": [
    "### Игровая сетка состоит из объектов Life-Cell"
   ]
  },
  {
   "cell_type": "code",
   "execution_count": 16,
   "metadata": {},
   "outputs": [],
   "source": [
    "import numpy\n",
    "from numpy import array"
   ]
  },
  {
   "cell_type": "code",
   "execution_count": 32,
   "metadata": {},
   "outputs": [],
   "source": [
    "class LifeGrid:\n",
    "    '''\n",
    "    Present simple grid of LifeCell objects\n",
    "    '''\n",
    "    def __init__(self, n_rows=0, n_cols=0):\n",
    "        self._grid = []\n",
    "        for row in range(n_rows):\n",
    "            grid_line = []\n",
    "            for col in range(n_cols):\n",
    "                grid_line.append(LifeCell())\n",
    "            self._grid.append(grid_line)\n",
    "            \n",
    "        self._grid = array(self._grid).reshape((n_rows, n_cols))"
   ]
  },
  {
   "cell_type": "code",
   "execution_count": null,
   "metadata": {},
   "outputs": [],
   "source": []
  }
 ],
 "metadata": {
  "kernelspec": {
   "display_name": "Python 3",
   "language": "python",
   "name": "python3"
  },
  "language_info": {
   "codemirror_mode": {
    "name": "ipython",
    "version": 3
   },
   "file_extension": ".py",
   "mimetype": "text/x-python",
   "name": "python",
   "nbconvert_exporter": "python",
   "pygments_lexer": "ipython3",
   "version": "3.5.2"
  }
 },
 "nbformat": 4,
 "nbformat_minor": 2
}
